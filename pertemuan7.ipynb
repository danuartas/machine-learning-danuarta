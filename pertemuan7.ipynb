{
 "cells": [
  {
   "cell_type": "code",
   "execution_count": 1,
   "id": "cae76a19",
   "metadata": {},
   "outputs": [
    {
     "name": "stdout",
     "output_type": "stream",
     "text": [
      "(7, 5) (1, 5) (2, 5)\n"
     ]
    }
   ],
   "source": [
    "# Langkah 1 — Siapkan Data\n",
    "import pandas as pd\n",
    "from sklearn.model_selection import train_test_split\n",
    "from sklearn.preprocessing import StandardScaler\n",
    "import tensorflow as tf\n",
    "from tensorflow import keras\n",
    "from tensorflow.keras import layers\n",
    "import matplotlib.pyplot as plt\n",
    "from sklearn.metrics import classification_report, confusion_matrix, f1_score, roc_auc_score, roc_curve\n",
    "\n",
    "# Set seed biar hasil stabil\n",
    "tf.random.set_seed(42)\n",
    "\n",
    "# Baca dataset hasil dari Pertemuan 4\n",
    "df = pd.read_csv(\"processed_kelulusan.csv\")\n",
    "\n",
    "# Pisahkan fitur dan target\n",
    "X = df.drop(\"Lulus\", axis=1)\n",
    "y = df[\"Lulus\"]\n",
    "\n",
    "# Normalisasi (fitur dibikin rata biar training stabil)\n",
    "sc = StandardScaler()\n",
    "Xs = sc.fit_transform(X)\n",
    "\n",
    "# Split data 70% train, 15% val, 15% test\n",
    "X_train, X_temp, y_train, y_temp = train_test_split(Xs, y, test_size=0.3, random_state=42)\n",
    "X_val, X_test, y_val, y_test = train_test_split(X_temp, y_temp, test_size=0.5, random_state=42)\n",
    "\n",
    "print(X_train.shape, X_val.shape, X_test.shape)"
   ]
  },
  {
   "cell_type": "code",
   "execution_count": 2,
   "id": "75dad21a",
   "metadata": {},
   "outputs": [
    {
     "data": {
      "text/html": [
       "<pre style=\"white-space:pre;overflow-x:auto;line-height:normal;font-family:Menlo,'DejaVu Sans Mono',consolas,'Courier New',monospace\"><span style=\"font-weight: bold\">Model: \"sequential\"</span>\n",
       "</pre>\n"
      ],
      "text/plain": [
       "\u001b[1mModel: \"sequential\"\u001b[0m\n"
      ]
     },
     "metadata": {},
     "output_type": "display_data"
    },
    {
     "data": {
      "text/html": [
       "<pre style=\"white-space:pre;overflow-x:auto;line-height:normal;font-family:Menlo,'DejaVu Sans Mono',consolas,'Courier New',monospace\">┏━━━━━━━━━━━━━━━━━━━━━━━━━━━━━━━━━┳━━━━━━━━━━━━━━━━━━━━━━━━┳━━━━━━━━━━━━━━━┓\n",
       "┃<span style=\"font-weight: bold\"> Layer (type)                    </span>┃<span style=\"font-weight: bold\"> Output Shape           </span>┃<span style=\"font-weight: bold\">       Param # </span>┃\n",
       "┡━━━━━━━━━━━━━━━━━━━━━━━━━━━━━━━━━╇━━━━━━━━━━━━━━━━━━━━━━━━╇━━━━━━━━━━━━━━━┩\n",
       "│ dense (<span style=\"color: #0087ff; text-decoration-color: #0087ff\">Dense</span>)                   │ (<span style=\"color: #00d7ff; text-decoration-color: #00d7ff\">None</span>, <span style=\"color: #00af00; text-decoration-color: #00af00\">32</span>)             │           <span style=\"color: #00af00; text-decoration-color: #00af00\">192</span> │\n",
       "├─────────────────────────────────┼────────────────────────┼───────────────┤\n",
       "│ dropout (<span style=\"color: #0087ff; text-decoration-color: #0087ff\">Dropout</span>)               │ (<span style=\"color: #00d7ff; text-decoration-color: #00d7ff\">None</span>, <span style=\"color: #00af00; text-decoration-color: #00af00\">32</span>)             │             <span style=\"color: #00af00; text-decoration-color: #00af00\">0</span> │\n",
       "├─────────────────────────────────┼────────────────────────┼───────────────┤\n",
       "│ dense_1 (<span style=\"color: #0087ff; text-decoration-color: #0087ff\">Dense</span>)                 │ (<span style=\"color: #00d7ff; text-decoration-color: #00d7ff\">None</span>, <span style=\"color: #00af00; text-decoration-color: #00af00\">16</span>)             │           <span style=\"color: #00af00; text-decoration-color: #00af00\">528</span> │\n",
       "├─────────────────────────────────┼────────────────────────┼───────────────┤\n",
       "│ dense_2 (<span style=\"color: #0087ff; text-decoration-color: #0087ff\">Dense</span>)                 │ (<span style=\"color: #00d7ff; text-decoration-color: #00d7ff\">None</span>, <span style=\"color: #00af00; text-decoration-color: #00af00\">1</span>)              │            <span style=\"color: #00af00; text-decoration-color: #00af00\">17</span> │\n",
       "└─────────────────────────────────┴────────────────────────┴───────────────┘\n",
       "</pre>\n"
      ],
      "text/plain": [
       "┏━━━━━━━━━━━━━━━━━━━━━━━━━━━━━━━━━┳━━━━━━━━━━━━━━━━━━━━━━━━┳━━━━━━━━━━━━━━━┓\n",
       "┃\u001b[1m \u001b[0m\u001b[1mLayer (type)                   \u001b[0m\u001b[1m \u001b[0m┃\u001b[1m \u001b[0m\u001b[1mOutput Shape          \u001b[0m\u001b[1m \u001b[0m┃\u001b[1m \u001b[0m\u001b[1m      Param #\u001b[0m\u001b[1m \u001b[0m┃\n",
       "┡━━━━━━━━━━━━━━━━━━━━━━━━━━━━━━━━━╇━━━━━━━━━━━━━━━━━━━━━━━━╇━━━━━━━━━━━━━━━┩\n",
       "│ dense (\u001b[38;5;33mDense\u001b[0m)                   │ (\u001b[38;5;45mNone\u001b[0m, \u001b[38;5;34m32\u001b[0m)             │           \u001b[38;5;34m192\u001b[0m │\n",
       "├─────────────────────────────────┼────────────────────────┼───────────────┤\n",
       "│ dropout (\u001b[38;5;33mDropout\u001b[0m)               │ (\u001b[38;5;45mNone\u001b[0m, \u001b[38;5;34m32\u001b[0m)             │             \u001b[38;5;34m0\u001b[0m │\n",
       "├─────────────────────────────────┼────────────────────────┼───────────────┤\n",
       "│ dense_1 (\u001b[38;5;33mDense\u001b[0m)                 │ (\u001b[38;5;45mNone\u001b[0m, \u001b[38;5;34m16\u001b[0m)             │           \u001b[38;5;34m528\u001b[0m │\n",
       "├─────────────────────────────────┼────────────────────────┼───────────────┤\n",
       "│ dense_2 (\u001b[38;5;33mDense\u001b[0m)                 │ (\u001b[38;5;45mNone\u001b[0m, \u001b[38;5;34m1\u001b[0m)              │            \u001b[38;5;34m17\u001b[0m │\n",
       "└─────────────────────────────────┴────────────────────────┴───────────────┘\n"
      ]
     },
     "metadata": {},
     "output_type": "display_data"
    },
    {
     "data": {
      "text/html": [
       "<pre style=\"white-space:pre;overflow-x:auto;line-height:normal;font-family:Menlo,'DejaVu Sans Mono',consolas,'Courier New',monospace\"><span style=\"font-weight: bold\"> Total params: </span><span style=\"color: #00af00; text-decoration-color: #00af00\">737</span> (2.88 KB)\n",
       "</pre>\n"
      ],
      "text/plain": [
       "\u001b[1m Total params: \u001b[0m\u001b[38;5;34m737\u001b[0m (2.88 KB)\n"
      ]
     },
     "metadata": {},
     "output_type": "display_data"
    },
    {
     "data": {
      "text/html": [
       "<pre style=\"white-space:pre;overflow-x:auto;line-height:normal;font-family:Menlo,'DejaVu Sans Mono',consolas,'Courier New',monospace\"><span style=\"font-weight: bold\"> Trainable params: </span><span style=\"color: #00af00; text-decoration-color: #00af00\">737</span> (2.88 KB)\n",
       "</pre>\n"
      ],
      "text/plain": [
       "\u001b[1m Trainable params: \u001b[0m\u001b[38;5;34m737\u001b[0m (2.88 KB)\n"
      ]
     },
     "metadata": {},
     "output_type": "display_data"
    },
    {
     "data": {
      "text/html": [
       "<pre style=\"white-space:pre;overflow-x:auto;line-height:normal;font-family:Menlo,'DejaVu Sans Mono',consolas,'Courier New',monospace\"><span style=\"font-weight: bold\"> Non-trainable params: </span><span style=\"color: #00af00; text-decoration-color: #00af00\">0</span> (0.00 B)\n",
       "</pre>\n"
      ],
      "text/plain": [
       "\u001b[1m Non-trainable params: \u001b[0m\u001b[38;5;34m0\u001b[0m (0.00 B)\n"
      ]
     },
     "metadata": {},
     "output_type": "display_data"
    }
   ],
   "source": [
    "model = keras.Sequential([\n",
    "    layers.Input(shape=(X_train.shape[1],)),\n",
    "    layers.Dense(32, activation=\"relu\"),\n",
    "    layers.Dropout(0.3),\n",
    "    layers.Dense(16, activation=\"relu\"),\n",
    "    layers.Dense(1, activation=\"sigmoid\")  # output biner (0/1)\n",
    "])\n",
    "\n",
    "# Kompilasi model\n",
    "model.compile(\n",
    "    optimizer=keras.optimizers.Adam(1e-3),\n",
    "    loss=\"binary_crossentropy\",\n",
    "    metrics=[\"accuracy\", \"AUC\"]\n",
    ")\n",
    "\n",
    "model.summary()\n"
   ]
  },
  {
   "cell_type": "code",
   "execution_count": 3,
   "id": "e8aa8697",
   "metadata": {},
   "outputs": [
    {
     "name": "stdout",
     "output_type": "stream",
     "text": [
      "Epoch 1/100\n",
      "\u001b[1m1/1\u001b[0m \u001b[32m━━━━━━━━━━━━━━━━━━━━\u001b[0m\u001b[37m\u001b[0m \u001b[1m22s\u001b[0m 22s/step - AUC: 0.2500 - accuracy: 0.5714 - loss: 0.7729 - val_AUC: 0.0000e+00 - val_accuracy: 0.0000e+00 - val_loss: 0.7192\n",
      "Epoch 2/100\n",
      "\u001b[1m1/1\u001b[0m \u001b[32m━━━━━━━━━━━━━━━━━━━━\u001b[0m\u001b[37m\u001b[0m \u001b[1m1s\u001b[0m 1s/step - AUC: 0.6250 - accuracy: 0.7143 - loss: 0.6533 - val_AUC: 0.0000e+00 - val_accuracy: 0.0000e+00 - val_loss: 0.7134\n",
      "Epoch 3/100\n",
      "\u001b[1m1/1\u001b[0m \u001b[32m━━━━━━━━━━━━━━━━━━━━\u001b[0m\u001b[37m\u001b[0m \u001b[1m2s\u001b[0m 2s/step - AUC: 0.8333 - accuracy: 0.5714 - loss: 0.5808 - val_AUC: 0.0000e+00 - val_accuracy: 0.0000e+00 - val_loss: 0.7079\n",
      "Epoch 4/100\n",
      "\u001b[1m1/1\u001b[0m \u001b[32m━━━━━━━━━━━━━━━━━━━━\u001b[0m\u001b[37m\u001b[0m \u001b[1m1s\u001b[0m 1s/step - AUC: 0.8333 - accuracy: 0.7143 - loss: 0.5978 - val_AUC: 0.0000e+00 - val_accuracy: 0.0000e+00 - val_loss: 0.7029\n",
      "Epoch 5/100\n",
      "\u001b[1m1/1\u001b[0m \u001b[32m━━━━━━━━━━━━━━━━━━━━\u001b[0m\u001b[37m\u001b[0m \u001b[1m1s\u001b[0m 1s/step - AUC: 0.9167 - accuracy: 0.7143 - loss: 0.5626 - val_AUC: 0.0000e+00 - val_accuracy: 0.0000e+00 - val_loss: 0.6984\n",
      "Epoch 6/100\n",
      "\u001b[1m1/1\u001b[0m \u001b[32m━━━━━━━━━━━━━━━━━━━━\u001b[0m\u001b[37m\u001b[0m \u001b[1m1s\u001b[0m 1s/step - AUC: 0.6667 - accuracy: 0.5714 - loss: 0.6596 - val_AUC: 0.0000e+00 - val_accuracy: 0.0000e+00 - val_loss: 0.6938\n",
      "Epoch 7/100\n",
      "\u001b[1m1/1\u001b[0m \u001b[32m━━━━━━━━━━━━━━━━━━━━\u001b[0m\u001b[37m\u001b[0m \u001b[1m2s\u001b[0m 2s/step - AUC: 0.9167 - accuracy: 0.5714 - loss: 0.5977 - val_AUC: 0.0000e+00 - val_accuracy: 1.0000 - val_loss: 0.6895\n",
      "Epoch 8/100\n",
      "\u001b[1m1/1\u001b[0m \u001b[32m━━━━━━━━━━━━━━━━━━━━\u001b[0m\u001b[37m\u001b[0m \u001b[1m2s\u001b[0m 2s/step - AUC: 0.9167 - accuracy: 0.7143 - loss: 0.5454 - val_AUC: 0.0000e+00 - val_accuracy: 1.0000 - val_loss: 0.6852\n",
      "Epoch 9/100\n",
      "\u001b[1m1/1\u001b[0m \u001b[32m━━━━━━━━━━━━━━━━━━━━\u001b[0m\u001b[37m\u001b[0m \u001b[1m1s\u001b[0m 1s/step - AUC: 0.6667 - accuracy: 0.7143 - loss: 0.6430 - val_AUC: 0.0000e+00 - val_accuracy: 1.0000 - val_loss: 0.6805\n",
      "Epoch 10/100\n",
      "\u001b[1m1/1\u001b[0m \u001b[32m━━━━━━━━━━━━━━━━━━━━\u001b[0m\u001b[37m\u001b[0m \u001b[1m2s\u001b[0m 2s/step - AUC: 0.9167 - accuracy: 0.7143 - loss: 0.5473 - val_AUC: 0.0000e+00 - val_accuracy: 1.0000 - val_loss: 0.6759\n",
      "Epoch 11/100\n",
      "\u001b[1m1/1\u001b[0m \u001b[32m━━━━━━━━━━━━━━━━━━━━\u001b[0m\u001b[37m\u001b[0m \u001b[1m4s\u001b[0m 4s/step - AUC: 1.0000 - accuracy: 0.7143 - loss: 0.4538 - val_AUC: 0.0000e+00 - val_accuracy: 1.0000 - val_loss: 0.6712\n",
      "Epoch 12/100\n",
      "\u001b[1m1/1\u001b[0m \u001b[32m━━━━━━━━━━━━━━━━━━━━\u001b[0m\u001b[37m\u001b[0m \u001b[1m2s\u001b[0m 2s/step - AUC: 0.8333 - accuracy: 0.5714 - loss: 0.6393 - val_AUC: 0.0000e+00 - val_accuracy: 1.0000 - val_loss: 0.6665\n",
      "Epoch 13/100\n",
      "\u001b[1m1/1\u001b[0m \u001b[32m━━━━━━━━━━━━━━━━━━━━\u001b[0m\u001b[37m\u001b[0m \u001b[1m2s\u001b[0m 2s/step - AUC: 1.0000 - accuracy: 0.5714 - loss: 0.5425 - val_AUC: 0.0000e+00 - val_accuracy: 1.0000 - val_loss: 0.6617\n",
      "Epoch 14/100\n",
      "\u001b[1m1/1\u001b[0m \u001b[32m━━━━━━━━━━━━━━━━━━━━\u001b[0m\u001b[37m\u001b[0m \u001b[1m1s\u001b[0m 1s/step - AUC: 1.0000 - accuracy: 0.5714 - loss: 0.5047 - val_AUC: 0.0000e+00 - val_accuracy: 1.0000 - val_loss: 0.6571\n",
      "Epoch 15/100\n",
      "\u001b[1m1/1\u001b[0m \u001b[32m━━━━━━━━━━━━━━━━━━━━\u001b[0m\u001b[37m\u001b[0m \u001b[1m3s\u001b[0m 3s/step - AUC: 1.0000 - accuracy: 0.8571 - loss: 0.4334 - val_AUC: 0.0000e+00 - val_accuracy: 1.0000 - val_loss: 0.6525\n",
      "Epoch 16/100\n",
      "\u001b[1m1/1\u001b[0m \u001b[32m━━━━━━━━━━━━━━━━━━━━\u001b[0m\u001b[37m\u001b[0m \u001b[1m5s\u001b[0m 5s/step - AUC: 1.0000 - accuracy: 0.7143 - loss: 0.4780 - val_AUC: 0.0000e+00 - val_accuracy: 1.0000 - val_loss: 0.6480\n",
      "Epoch 17/100\n",
      "\u001b[1m1/1\u001b[0m \u001b[32m━━━━━━━━━━━━━━━━━━━━\u001b[0m\u001b[37m\u001b[0m \u001b[1m1s\u001b[0m 1s/step - AUC: 1.0000 - accuracy: 0.8571 - loss: 0.5022 - val_AUC: 0.0000e+00 - val_accuracy: 1.0000 - val_loss: 0.6435\n",
      "Epoch 18/100\n",
      "\u001b[1m1/1\u001b[0m \u001b[32m━━━━━━━━━━━━━━━━━━━━\u001b[0m\u001b[37m\u001b[0m \u001b[1m1s\u001b[0m 1s/step - AUC: 1.0000 - accuracy: 1.0000 - loss: 0.4018 - val_AUC: 0.0000e+00 - val_accuracy: 1.0000 - val_loss: 0.6393\n",
      "Epoch 19/100\n",
      "\u001b[1m1/1\u001b[0m \u001b[32m━━━━━━━━━━━━━━━━━━━━\u001b[0m\u001b[37m\u001b[0m \u001b[1m1s\u001b[0m 1s/step - AUC: 0.9167 - accuracy: 0.8571 - loss: 0.4924 - val_AUC: 0.0000e+00 - val_accuracy: 1.0000 - val_loss: 0.6350\n",
      "Epoch 20/100\n",
      "\u001b[1m1/1\u001b[0m \u001b[32m━━━━━━━━━━━━━━━━━━━━\u001b[0m\u001b[37m\u001b[0m \u001b[1m1s\u001b[0m 1s/step - AUC: 0.8333 - accuracy: 0.7143 - loss: 0.5406 - val_AUC: 0.0000e+00 - val_accuracy: 1.0000 - val_loss: 0.6304\n",
      "Epoch 21/100\n",
      "\u001b[1m1/1\u001b[0m \u001b[32m━━━━━━━━━━━━━━━━━━━━\u001b[0m\u001b[37m\u001b[0m \u001b[1m1s\u001b[0m 1s/step - AUC: 1.0000 - accuracy: 0.8571 - loss: 0.4261 - val_AUC: 0.0000e+00 - val_accuracy: 1.0000 - val_loss: 0.6258\n",
      "Epoch 22/100\n",
      "\u001b[1m1/1\u001b[0m \u001b[32m━━━━━━━━━━━━━━━━━━━━\u001b[0m\u001b[37m\u001b[0m \u001b[1m1s\u001b[0m 1s/step - AUC: 1.0000 - accuracy: 0.8571 - loss: 0.4667 - val_AUC: 0.0000e+00 - val_accuracy: 1.0000 - val_loss: 0.6213\n",
      "Epoch 23/100\n",
      "\u001b[1m1/1\u001b[0m \u001b[32m━━━━━━━━━━━━━━━━━━━━\u001b[0m\u001b[37m\u001b[0m \u001b[1m2s\u001b[0m 2s/step - AUC: 1.0000 - accuracy: 0.7143 - loss: 0.4818 - val_AUC: 0.0000e+00 - val_accuracy: 1.0000 - val_loss: 0.6168\n",
      "Epoch 24/100\n",
      "\u001b[1m1/1\u001b[0m \u001b[32m━━━━━━━━━━━━━━━━━━━━\u001b[0m\u001b[37m\u001b[0m \u001b[1m3s\u001b[0m 3s/step - AUC: 1.0000 - accuracy: 0.7143 - loss: 0.4206 - val_AUC: 0.0000e+00 - val_accuracy: 1.0000 - val_loss: 0.6125\n",
      "Epoch 25/100\n",
      "\u001b[1m1/1\u001b[0m \u001b[32m━━━━━━━━━━━━━━━━━━━━\u001b[0m\u001b[37m\u001b[0m \u001b[1m4s\u001b[0m 4s/step - AUC: 1.0000 - accuracy: 1.0000 - loss: 0.3472 - val_AUC: 0.0000e+00 - val_accuracy: 1.0000 - val_loss: 0.6087\n",
      "Epoch 26/100\n",
      "\u001b[1m1/1\u001b[0m \u001b[32m━━━━━━━━━━━━━━━━━━━━\u001b[0m\u001b[37m\u001b[0m \u001b[1m5s\u001b[0m 5s/step - AUC: 0.9167 - accuracy: 0.7143 - loss: 0.4998 - val_AUC: 0.0000e+00 - val_accuracy: 1.0000 - val_loss: 0.6055\n",
      "Epoch 27/100\n",
      "\u001b[1m1/1\u001b[0m \u001b[32m━━━━━━━━━━━━━━━━━━━━\u001b[0m\u001b[37m\u001b[0m \u001b[1m2s\u001b[0m 2s/step - AUC: 1.0000 - accuracy: 0.8571 - loss: 0.4136 - val_AUC: 0.0000e+00 - val_accuracy: 1.0000 - val_loss: 0.6024\n",
      "Epoch 28/100\n",
      "\u001b[1m1/1\u001b[0m \u001b[32m━━━━━━━━━━━━━━━━━━━━\u001b[0m\u001b[37m\u001b[0m \u001b[1m3s\u001b[0m 3s/step - AUC: 1.0000 - accuracy: 1.0000 - loss: 0.3624 - val_AUC: 0.0000e+00 - val_accuracy: 1.0000 - val_loss: 0.5993\n",
      "Epoch 29/100\n",
      "\u001b[1m1/1\u001b[0m \u001b[32m━━━━━━━━━━━━━━━━━━━━\u001b[0m\u001b[37m\u001b[0m \u001b[1m3s\u001b[0m 3s/step - AUC: 1.0000 - accuracy: 0.7143 - loss: 0.4526 - val_AUC: 0.0000e+00 - val_accuracy: 1.0000 - val_loss: 0.5962\n",
      "Epoch 30/100\n",
      "\u001b[1m1/1\u001b[0m \u001b[32m━━━━━━━━━━━━━━━━━━━━\u001b[0m\u001b[37m\u001b[0m \u001b[1m2s\u001b[0m 2s/step - AUC: 1.0000 - accuracy: 0.8571 - loss: 0.3615 - val_AUC: 0.0000e+00 - val_accuracy: 1.0000 - val_loss: 0.5931\n",
      "Epoch 31/100\n",
      "\u001b[1m1/1\u001b[0m \u001b[32m━━━━━━━━━━━━━━━━━━━━\u001b[0m\u001b[37m\u001b[0m \u001b[1m2s\u001b[0m 2s/step - AUC: 1.0000 - accuracy: 1.0000 - loss: 0.3301 - val_AUC: 0.0000e+00 - val_accuracy: 1.0000 - val_loss: 0.5900\n",
      "Epoch 32/100\n",
      "\u001b[1m1/1\u001b[0m \u001b[32m━━━━━━━━━━━━━━━━━━━━\u001b[0m\u001b[37m\u001b[0m \u001b[1m1s\u001b[0m 1s/step - AUC: 1.0000 - accuracy: 0.8571 - loss: 0.3959 - val_AUC: 0.0000e+00 - val_accuracy: 1.0000 - val_loss: 0.5868\n",
      "Epoch 33/100\n",
      "\u001b[1m1/1\u001b[0m \u001b[32m━━━━━━━━━━━━━━━━━━━━\u001b[0m\u001b[37m\u001b[0m \u001b[1m2s\u001b[0m 2s/step - AUC: 1.0000 - accuracy: 1.0000 - loss: 0.3410 - val_AUC: 0.0000e+00 - val_accuracy: 1.0000 - val_loss: 0.5835\n",
      "Epoch 34/100\n",
      "\u001b[1m1/1\u001b[0m \u001b[32m━━━━━━━━━━━━━━━━━━━━\u001b[0m\u001b[37m\u001b[0m \u001b[1m2s\u001b[0m 2s/step - AUC: 1.0000 - accuracy: 0.8571 - loss: 0.4079 - val_AUC: 0.0000e+00 - val_accuracy: 1.0000 - val_loss: 0.5801\n",
      "Epoch 35/100\n",
      "\u001b[1m1/1\u001b[0m \u001b[32m━━━━━━━━━━━━━━━━━━━━\u001b[0m\u001b[37m\u001b[0m \u001b[1m3s\u001b[0m 3s/step - AUC: 1.0000 - accuracy: 0.8571 - loss: 0.3960 - val_AUC: 0.0000e+00 - val_accuracy: 1.0000 - val_loss: 0.5766\n",
      "Epoch 36/100\n",
      "\u001b[1m1/1\u001b[0m \u001b[32m━━━━━━━━━━━━━━━━━━━━\u001b[0m\u001b[37m\u001b[0m \u001b[1m2s\u001b[0m 2s/step - AUC: 1.0000 - accuracy: 0.8571 - loss: 0.3668 - val_AUC: 0.0000e+00 - val_accuracy: 1.0000 - val_loss: 0.5730\n",
      "Epoch 37/100\n",
      "\u001b[1m1/1\u001b[0m \u001b[32m━━━━━━━━━━━━━━━━━━━━\u001b[0m\u001b[37m\u001b[0m \u001b[1m2s\u001b[0m 2s/step - AUC: 1.0000 - accuracy: 0.8571 - loss: 0.3590 - val_AUC: 0.0000e+00 - val_accuracy: 1.0000 - val_loss: 0.5693\n",
      "Epoch 38/100\n",
      "\u001b[1m1/1\u001b[0m \u001b[32m━━━━━━━━━━━━━━━━━━━━\u001b[0m\u001b[37m\u001b[0m \u001b[1m1s\u001b[0m 1s/step - AUC: 1.0000 - accuracy: 0.8571 - loss: 0.3626 - val_AUC: 0.0000e+00 - val_accuracy: 1.0000 - val_loss: 0.5656\n",
      "Epoch 39/100\n",
      "\u001b[1m1/1\u001b[0m \u001b[32m━━━━━━━━━━━━━━━━━━━━\u001b[0m\u001b[37m\u001b[0m \u001b[1m1s\u001b[0m 1s/step - AUC: 1.0000 - accuracy: 1.0000 - loss: 0.2872 - val_AUC: 0.0000e+00 - val_accuracy: 1.0000 - val_loss: 0.5622\n",
      "Epoch 40/100\n",
      "\u001b[1m1/1\u001b[0m \u001b[32m━━━━━━━━━━━━━━━━━━━━\u001b[0m\u001b[37m\u001b[0m \u001b[1m1s\u001b[0m 1s/step - AUC: 1.0000 - accuracy: 1.0000 - loss: 0.2510 - val_AUC: 0.0000e+00 - val_accuracy: 1.0000 - val_loss: 0.5595\n",
      "Epoch 41/100\n",
      "\u001b[1m1/1\u001b[0m \u001b[32m━━━━━━━━━━━━━━━━━━━━\u001b[0m\u001b[37m\u001b[0m \u001b[1m2s\u001b[0m 2s/step - AUC: 1.0000 - accuracy: 1.0000 - loss: 0.3591 - val_AUC: 0.0000e+00 - val_accuracy: 1.0000 - val_loss: 0.5567\n",
      "Epoch 42/100\n",
      "\u001b[1m1/1\u001b[0m \u001b[32m━━━━━━━━━━━━━━━━━━━━\u001b[0m\u001b[37m\u001b[0m \u001b[1m2s\u001b[0m 2s/step - AUC: 1.0000 - accuracy: 1.0000 - loss: 0.3362 - val_AUC: 0.0000e+00 - val_accuracy: 1.0000 - val_loss: 0.5537\n",
      "Epoch 43/100\n",
      "\u001b[1m1/1\u001b[0m \u001b[32m━━━━━━━━━━━━━━━━━━━━\u001b[0m\u001b[37m\u001b[0m \u001b[1m3s\u001b[0m 3s/step - AUC: 1.0000 - accuracy: 1.0000 - loss: 0.2878 - val_AUC: 0.0000e+00 - val_accuracy: 1.0000 - val_loss: 0.5509\n",
      "Epoch 44/100\n",
      "\u001b[1m1/1\u001b[0m \u001b[32m━━━━━━━━━━━━━━━━━━━━\u001b[0m\u001b[37m\u001b[0m \u001b[1m2s\u001b[0m 2s/step - AUC: 1.0000 - accuracy: 1.0000 - loss: 0.2415 - val_AUC: 0.0000e+00 - val_accuracy: 1.0000 - val_loss: 0.5481\n",
      "Epoch 45/100\n",
      "\u001b[1m1/1\u001b[0m \u001b[32m━━━━━━━━━━━━━━━━━━━━\u001b[0m\u001b[37m\u001b[0m \u001b[1m3s\u001b[0m 3s/step - AUC: 1.0000 - accuracy: 1.0000 - loss: 0.2893 - val_AUC: 0.0000e+00 - val_accuracy: 1.0000 - val_loss: 0.5452\n",
      "Epoch 46/100\n",
      "\u001b[1m1/1\u001b[0m \u001b[32m━━━━━━━━━━━━━━━━━━━━\u001b[0m\u001b[37m\u001b[0m \u001b[1m3s\u001b[0m 3s/step - AUC: 1.0000 - accuracy: 1.0000 - loss: 0.3315 - val_AUC: 0.0000e+00 - val_accuracy: 1.0000 - val_loss: 0.5424\n",
      "Epoch 47/100\n",
      "\u001b[1m1/1\u001b[0m \u001b[32m━━━━━━━━━━━━━━━━━━━━\u001b[0m\u001b[37m\u001b[0m \u001b[1m2s\u001b[0m 2s/step - AUC: 1.0000 - accuracy: 1.0000 - loss: 0.2584 - val_AUC: 0.0000e+00 - val_accuracy: 1.0000 - val_loss: 0.5395\n",
      "Epoch 48/100\n",
      "\u001b[1m1/1\u001b[0m \u001b[32m━━━━━━━━━━━━━━━━━━━━\u001b[0m\u001b[37m\u001b[0m \u001b[1m2s\u001b[0m 2s/step - AUC: 1.0000 - accuracy: 0.8571 - loss: 0.3373 - val_AUC: 0.0000e+00 - val_accuracy: 1.0000 - val_loss: 0.5366\n",
      "Epoch 49/100\n",
      "\u001b[1m1/1\u001b[0m \u001b[32m━━━━━━━━━━━━━━━━━━━━\u001b[0m\u001b[37m\u001b[0m \u001b[1m1s\u001b[0m 1s/step - AUC: 1.0000 - accuracy: 1.0000 - loss: 0.2419 - val_AUC: 0.0000e+00 - val_accuracy: 1.0000 - val_loss: 0.5337\n",
      "Epoch 50/100\n",
      "\u001b[1m1/1\u001b[0m \u001b[32m━━━━━━━━━━━━━━━━━━━━\u001b[0m\u001b[37m\u001b[0m \u001b[1m1s\u001b[0m 1s/step - AUC: 1.0000 - accuracy: 0.8571 - loss: 0.3213 - val_AUC: 0.0000e+00 - val_accuracy: 1.0000 - val_loss: 0.5305\n",
      "Epoch 51/100\n",
      "\u001b[1m1/1\u001b[0m \u001b[32m━━━━━━━━━━━━━━━━━━━━\u001b[0m\u001b[37m\u001b[0m \u001b[1m2s\u001b[0m 2s/step - AUC: 1.0000 - accuracy: 1.0000 - loss: 0.2453 - val_AUC: 0.0000e+00 - val_accuracy: 1.0000 - val_loss: 0.5274\n",
      "Epoch 52/100\n",
      "\u001b[1m1/1\u001b[0m \u001b[32m━━━━━━━━━━━━━━━━━━━━\u001b[0m\u001b[37m\u001b[0m \u001b[1m2s\u001b[0m 2s/step - AUC: 1.0000 - accuracy: 1.0000 - loss: 0.2486 - val_AUC: 0.0000e+00 - val_accuracy: 1.0000 - val_loss: 0.5241\n",
      "Epoch 53/100\n",
      "\u001b[1m1/1\u001b[0m \u001b[32m━━━━━━━━━━━━━━━━━━━━\u001b[0m\u001b[37m\u001b[0m \u001b[1m2s\u001b[0m 2s/step - AUC: 1.0000 - accuracy: 1.0000 - loss: 0.2788 - val_AUC: 0.0000e+00 - val_accuracy: 1.0000 - val_loss: 0.5208\n",
      "Epoch 54/100\n",
      "\u001b[1m1/1\u001b[0m \u001b[32m━━━━━━━━━━━━━━━━━━━━\u001b[0m\u001b[37m\u001b[0m \u001b[1m2s\u001b[0m 2s/step - AUC: 1.0000 - accuracy: 1.0000 - loss: 0.2115 - val_AUC: 0.0000e+00 - val_accuracy: 1.0000 - val_loss: 0.5176\n",
      "Epoch 55/100\n",
      "\u001b[1m1/1\u001b[0m \u001b[32m━━━━━━━━━━━━━━━━━━━━\u001b[0m\u001b[37m\u001b[0m \u001b[1m1s\u001b[0m 1s/step - AUC: 1.0000 - accuracy: 1.0000 - loss: 0.2338 - val_AUC: 0.0000e+00 - val_accuracy: 1.0000 - val_loss: 0.5144\n",
      "Epoch 56/100\n",
      "\u001b[1m1/1\u001b[0m \u001b[32m━━━━━━━━━━━━━━━━━━━━\u001b[0m\u001b[37m\u001b[0m \u001b[1m1s\u001b[0m 1s/step - AUC: 1.0000 - accuracy: 1.0000 - loss: 0.2663 - val_AUC: 0.0000e+00 - val_accuracy: 1.0000 - val_loss: 0.5103\n",
      "Epoch 57/100\n",
      "\u001b[1m1/1\u001b[0m \u001b[32m━━━━━━━━━━━━━━━━━━━━\u001b[0m\u001b[37m\u001b[0m \u001b[1m1s\u001b[0m 1s/step - AUC: 1.0000 - accuracy: 1.0000 - loss: 0.2132 - val_AUC: 0.0000e+00 - val_accuracy: 1.0000 - val_loss: 0.5061\n",
      "Epoch 58/100\n",
      "\u001b[1m1/1\u001b[0m \u001b[32m━━━━━━━━━━━━━━━━━━━━\u001b[0m\u001b[37m\u001b[0m \u001b[1m2s\u001b[0m 2s/step - AUC: 1.0000 - accuracy: 1.0000 - loss: 0.1971 - val_AUC: 0.0000e+00 - val_accuracy: 1.0000 - val_loss: 0.5018\n",
      "Epoch 59/100\n",
      "\u001b[1m1/1\u001b[0m \u001b[32m━━━━━━━━━━━━━━━━━━━━\u001b[0m\u001b[37m\u001b[0m \u001b[1m3s\u001b[0m 3s/step - AUC: 1.0000 - accuracy: 1.0000 - loss: 0.2826 - val_AUC: 0.0000e+00 - val_accuracy: 1.0000 - val_loss: 0.4975\n",
      "Epoch 60/100\n",
      "\u001b[1m1/1\u001b[0m \u001b[32m━━━━━━━━━━━━━━━━━━━━\u001b[0m\u001b[37m\u001b[0m \u001b[1m3s\u001b[0m 3s/step - AUC: 1.0000 - accuracy: 1.0000 - loss: 0.2135 - val_AUC: 0.0000e+00 - val_accuracy: 1.0000 - val_loss: 0.4932\n",
      "Epoch 61/100\n",
      "\u001b[1m1/1\u001b[0m \u001b[32m━━━━━━━━━━━━━━━━━━━━\u001b[0m\u001b[37m\u001b[0m \u001b[1m2s\u001b[0m 2s/step - AUC: 1.0000 - accuracy: 1.0000 - loss: 0.1892 - val_AUC: 0.0000e+00 - val_accuracy: 1.0000 - val_loss: 0.4888\n",
      "Epoch 62/100\n",
      "\u001b[1m1/1\u001b[0m \u001b[32m━━━━━━━━━━━━━━━━━━━━\u001b[0m\u001b[37m\u001b[0m \u001b[1m2s\u001b[0m 2s/step - AUC: 1.0000 - accuracy: 1.0000 - loss: 0.1870 - val_AUC: 0.0000e+00 - val_accuracy: 1.0000 - val_loss: 0.4845\n",
      "Epoch 63/100\n",
      "\u001b[1m1/1\u001b[0m \u001b[32m━━━━━━━━━━━━━━━━━━━━\u001b[0m\u001b[37m\u001b[0m \u001b[1m2s\u001b[0m 2s/step - AUC: 1.0000 - accuracy: 1.0000 - loss: 0.1996 - val_AUC: 0.0000e+00 - val_accuracy: 1.0000 - val_loss: 0.4800\n",
      "Epoch 64/100\n",
      "\u001b[1m1/1\u001b[0m \u001b[32m━━━━━━━━━━━━━━━━━━━━\u001b[0m\u001b[37m\u001b[0m \u001b[1m1s\u001b[0m 1s/step - AUC: 1.0000 - accuracy: 1.0000 - loss: 0.2165 - val_AUC: 0.0000e+00 - val_accuracy: 1.0000 - val_loss: 0.4757\n",
      "Epoch 65/100\n",
      "\u001b[1m1/1\u001b[0m \u001b[32m━━━━━━━━━━━━━━━━━━━━\u001b[0m\u001b[37m\u001b[0m \u001b[1m1s\u001b[0m 1s/step - AUC: 1.0000 - accuracy: 1.0000 - loss: 0.1592 - val_AUC: 0.0000e+00 - val_accuracy: 1.0000 - val_loss: 0.4713\n",
      "Epoch 66/100\n",
      "\u001b[1m1/1\u001b[0m \u001b[32m━━━━━━━━━━━━━━━━━━━━\u001b[0m\u001b[37m\u001b[0m \u001b[1m1s\u001b[0m 1s/step - AUC: 1.0000 - accuracy: 1.0000 - loss: 0.2177 - val_AUC: 0.0000e+00 - val_accuracy: 1.0000 - val_loss: 0.4670\n",
      "Epoch 67/100\n",
      "\u001b[1m1/1\u001b[0m \u001b[32m━━━━━━━━━━━━━━━━━━━━\u001b[0m\u001b[37m\u001b[0m \u001b[1m1s\u001b[0m 1s/step - AUC: 1.0000 - accuracy: 1.0000 - loss: 0.1935 - val_AUC: 0.0000e+00 - val_accuracy: 1.0000 - val_loss: 0.4627\n",
      "Epoch 68/100\n",
      "\u001b[1m1/1\u001b[0m \u001b[32m━━━━━━━━━━━━━━━━━━━━\u001b[0m\u001b[37m\u001b[0m \u001b[1m2s\u001b[0m 2s/step - AUC: 1.0000 - accuracy: 1.0000 - loss: 0.1725 - val_AUC: 0.0000e+00 - val_accuracy: 1.0000 - val_loss: 0.4583\n",
      "Epoch 69/100\n",
      "\u001b[1m1/1\u001b[0m \u001b[32m━━━━━━━━━━━━━━━━━━━━\u001b[0m\u001b[37m\u001b[0m \u001b[1m1s\u001b[0m 1s/step - AUC: 1.0000 - accuracy: 1.0000 - loss: 0.1489 - val_AUC: 0.0000e+00 - val_accuracy: 1.0000 - val_loss: 0.4540\n",
      "Epoch 70/100\n",
      "\u001b[1m1/1\u001b[0m \u001b[32m━━━━━━━━━━━━━━━━━━━━\u001b[0m\u001b[37m\u001b[0m \u001b[1m2s\u001b[0m 2s/step - AUC: 1.0000 - accuracy: 1.0000 - loss: 0.1700 - val_AUC: 0.0000e+00 - val_accuracy: 1.0000 - val_loss: 0.4496\n",
      "Epoch 71/100\n",
      "\u001b[1m1/1\u001b[0m \u001b[32m━━━━━━━━━━━━━━━━━━━━\u001b[0m\u001b[37m\u001b[0m \u001b[1m1s\u001b[0m 1s/step - AUC: 1.0000 - accuracy: 1.0000 - loss: 0.1709 - val_AUC: 0.0000e+00 - val_accuracy: 1.0000 - val_loss: 0.4452\n",
      "Epoch 72/100\n",
      "\u001b[1m1/1\u001b[0m \u001b[32m━━━━━━━━━━━━━━━━━━━━\u001b[0m\u001b[37m\u001b[0m \u001b[1m1s\u001b[0m 1s/step - AUC: 1.0000 - accuracy: 0.8571 - loss: 0.2361 - val_AUC: 0.0000e+00 - val_accuracy: 1.0000 - val_loss: 0.4409\n",
      "Epoch 73/100\n",
      "\u001b[1m1/1\u001b[0m \u001b[32m━━━━━━━━━━━━━━━━━━━━\u001b[0m\u001b[37m\u001b[0m \u001b[1m2s\u001b[0m 2s/step - AUC: 1.0000 - accuracy: 0.8571 - loss: 0.2646 - val_AUC: 0.0000e+00 - val_accuracy: 1.0000 - val_loss: 0.4365\n",
      "Epoch 74/100\n",
      "\u001b[1m1/1\u001b[0m \u001b[32m━━━━━━━━━━━━━━━━━━━━\u001b[0m\u001b[37m\u001b[0m \u001b[1m2s\u001b[0m 2s/step - AUC: 1.0000 - accuracy: 1.0000 - loss: 0.1752 - val_AUC: 0.0000e+00 - val_accuracy: 1.0000 - val_loss: 0.4321\n",
      "Epoch 75/100\n",
      "\u001b[1m1/1\u001b[0m \u001b[32m━━━━━━━━━━━━━━━━━━━━\u001b[0m\u001b[37m\u001b[0m \u001b[1m2s\u001b[0m 2s/step - AUC: 1.0000 - accuracy: 1.0000 - loss: 0.1691 - val_AUC: 0.0000e+00 - val_accuracy: 1.0000 - val_loss: 0.4278\n",
      "Epoch 76/100\n",
      "\u001b[1m1/1\u001b[0m \u001b[32m━━━━━━━━━━━━━━━━━━━━\u001b[0m\u001b[37m\u001b[0m \u001b[1m1s\u001b[0m 1s/step - AUC: 1.0000 - accuracy: 1.0000 - loss: 0.1733 - val_AUC: 0.0000e+00 - val_accuracy: 1.0000 - val_loss: 0.4235\n",
      "Epoch 77/100\n",
      "\u001b[1m1/1\u001b[0m \u001b[32m━━━━━━━━━━━━━━━━━━━━\u001b[0m\u001b[37m\u001b[0m \u001b[1m1s\u001b[0m 1s/step - AUC: 1.0000 - accuracy: 1.0000 - loss: 0.1647 - val_AUC: 0.0000e+00 - val_accuracy: 1.0000 - val_loss: 0.4193\n",
      "Epoch 78/100\n",
      "\u001b[1m1/1\u001b[0m \u001b[32m━━━━━━━━━━━━━━━━━━━━\u001b[0m\u001b[37m\u001b[0m \u001b[1m1s\u001b[0m 1s/step - AUC: 1.0000 - accuracy: 1.0000 - loss: 0.1447 - val_AUC: 0.0000e+00 - val_accuracy: 1.0000 - val_loss: 0.4151\n",
      "Epoch 79/100\n",
      "\u001b[1m1/1\u001b[0m \u001b[32m━━━━━━━━━━━━━━━━━━━━\u001b[0m\u001b[37m\u001b[0m \u001b[1m2s\u001b[0m 2s/step - AUC: 1.0000 - accuracy: 1.0000 - loss: 0.1420 - val_AUC: 0.0000e+00 - val_accuracy: 1.0000 - val_loss: 0.4110\n",
      "Epoch 80/100\n",
      "\u001b[1m1/1\u001b[0m \u001b[32m━━━━━━━━━━━━━━━━━━━━\u001b[0m\u001b[37m\u001b[0m \u001b[1m2s\u001b[0m 2s/step - AUC: 1.0000 - accuracy: 1.0000 - loss: 0.1854 - val_AUC: 0.0000e+00 - val_accuracy: 1.0000 - val_loss: 0.4068\n",
      "Epoch 81/100\n",
      "\u001b[1m1/1\u001b[0m \u001b[32m━━━━━━━━━━━━━━━━━━━━\u001b[0m\u001b[37m\u001b[0m \u001b[1m2s\u001b[0m 2s/step - AUC: 1.0000 - accuracy: 1.0000 - loss: 0.1674 - val_AUC: 0.0000e+00 - val_accuracy: 1.0000 - val_loss: 0.4025\n",
      "Epoch 82/100\n",
      "\u001b[1m1/1\u001b[0m \u001b[32m━━━━━━━━━━━━━━━━━━━━\u001b[0m\u001b[37m\u001b[0m \u001b[1m1s\u001b[0m 1s/step - AUC: 1.0000 - accuracy: 1.0000 - loss: 0.1113 - val_AUC: 0.0000e+00 - val_accuracy: 1.0000 - val_loss: 0.3983\n",
      "Epoch 83/100\n",
      "\u001b[1m1/1\u001b[0m \u001b[32m━━━━━━━━━━━━━━━━━━━━\u001b[0m\u001b[37m\u001b[0m \u001b[1m1s\u001b[0m 1s/step - AUC: 1.0000 - accuracy: 1.0000 - loss: 0.1272 - val_AUC: 0.0000e+00 - val_accuracy: 1.0000 - val_loss: 0.3943\n",
      "Epoch 84/100\n",
      "\u001b[1m1/1\u001b[0m \u001b[32m━━━━━━━━━━━━━━━━━━━━\u001b[0m\u001b[37m\u001b[0m \u001b[1m1s\u001b[0m 1s/step - AUC: 1.0000 - accuracy: 1.0000 - loss: 0.1834 - val_AUC: 0.0000e+00 - val_accuracy: 1.0000 - val_loss: 0.3901\n",
      "Epoch 85/100\n",
      "\u001b[1m1/1\u001b[0m \u001b[32m━━━━━━━━━━━━━━━━━━━━\u001b[0m\u001b[37m\u001b[0m \u001b[1m1s\u001b[0m 1s/step - AUC: 1.0000 - accuracy: 1.0000 - loss: 0.1359 - val_AUC: 0.0000e+00 - val_accuracy: 1.0000 - val_loss: 0.3859\n",
      "Epoch 86/100\n",
      "\u001b[1m1/1\u001b[0m \u001b[32m━━━━━━━━━━━━━━━━━━━━\u001b[0m\u001b[37m\u001b[0m \u001b[1m1s\u001b[0m 1s/step - AUC: 1.0000 - accuracy: 1.0000 - loss: 0.1363 - val_AUC: 0.0000e+00 - val_accuracy: 1.0000 - val_loss: 0.3818\n",
      "Epoch 87/100\n",
      "\u001b[1m1/1\u001b[0m \u001b[32m━━━━━━━━━━━━━━━━━━━━\u001b[0m\u001b[37m\u001b[0m \u001b[1m1s\u001b[0m 949ms/step - AUC: 1.0000 - accuracy: 1.0000 - loss: 0.1008 - val_AUC: 0.0000e+00 - val_accuracy: 1.0000 - val_loss: 0.3777\n",
      "Epoch 88/100\n",
      "\u001b[1m1/1\u001b[0m \u001b[32m━━━━━━━━━━━━━━━━━━━━\u001b[0m\u001b[37m\u001b[0m \u001b[1m1s\u001b[0m 1s/step - AUC: 1.0000 - accuracy: 1.0000 - loss: 0.1102 - val_AUC: 0.0000e+00 - val_accuracy: 1.0000 - val_loss: 0.3737\n",
      "Epoch 89/100\n",
      "\u001b[1m1/1\u001b[0m \u001b[32m━━━━━━━━━━━━━━━━━━━━\u001b[0m\u001b[37m\u001b[0m \u001b[1m1s\u001b[0m 1s/step - AUC: 1.0000 - accuracy: 1.0000 - loss: 0.1419 - val_AUC: 0.0000e+00 - val_accuracy: 1.0000 - val_loss: 0.3697\n",
      "Epoch 90/100\n",
      "\u001b[1m1/1\u001b[0m \u001b[32m━━━━━━━━━━━━━━━━━━━━\u001b[0m\u001b[37m\u001b[0m \u001b[1m2s\u001b[0m 2s/step - AUC: 1.0000 - accuracy: 1.0000 - loss: 0.1096 - val_AUC: 0.0000e+00 - val_accuracy: 1.0000 - val_loss: 0.3657\n",
      "Epoch 91/100\n",
      "\u001b[1m1/1\u001b[0m \u001b[32m━━━━━━━━━━━━━━━━━━━━\u001b[0m\u001b[37m\u001b[0m \u001b[1m1s\u001b[0m 1s/step - AUC: 1.0000 - accuracy: 1.0000 - loss: 0.1161 - val_AUC: 0.0000e+00 - val_accuracy: 1.0000 - val_loss: 0.3618\n",
      "Epoch 92/100\n",
      "\u001b[1m1/1\u001b[0m \u001b[32m━━━━━━━━━━━━━━━━━━━━\u001b[0m\u001b[37m\u001b[0m \u001b[1m1s\u001b[0m 1s/step - AUC: 1.0000 - accuracy: 1.0000 - loss: 0.1312 - val_AUC: 0.0000e+00 - val_accuracy: 1.0000 - val_loss: 0.3578\n",
      "Epoch 93/100\n",
      "\u001b[1m1/1\u001b[0m \u001b[32m━━━━━━━━━━━━━━━━━━━━\u001b[0m\u001b[37m\u001b[0m \u001b[1m1s\u001b[0m 1s/step - AUC: 1.0000 - accuracy: 1.0000 - loss: 0.1151 - val_AUC: 0.0000e+00 - val_accuracy: 1.0000 - val_loss: 0.3538\n",
      "Epoch 94/100\n",
      "\u001b[1m1/1\u001b[0m \u001b[32m━━━━━━━━━━━━━━━━━━━━\u001b[0m\u001b[37m\u001b[0m \u001b[1m1s\u001b[0m 1s/step - AUC: 1.0000 - accuracy: 1.0000 - loss: 0.1499 - val_AUC: 0.0000e+00 - val_accuracy: 1.0000 - val_loss: 0.3498\n",
      "Epoch 95/100\n",
      "\u001b[1m1/1\u001b[0m \u001b[32m━━━━━━━━━━━━━━━━━━━━\u001b[0m\u001b[37m\u001b[0m \u001b[1m1s\u001b[0m 1s/step - AUC: 1.0000 - accuracy: 1.0000 - loss: 0.1186 - val_AUC: 0.0000e+00 - val_accuracy: 1.0000 - val_loss: 0.3458\n",
      "Epoch 96/100\n",
      "\u001b[1m1/1\u001b[0m \u001b[32m━━━━━━━━━━━━━━━━━━━━\u001b[0m\u001b[37m\u001b[0m \u001b[1m1s\u001b[0m 1s/step - AUC: 1.0000 - accuracy: 1.0000 - loss: 0.0859 - val_AUC: 0.0000e+00 - val_accuracy: 1.0000 - val_loss: 0.3419\n",
      "Epoch 97/100\n",
      "\u001b[1m1/1\u001b[0m \u001b[32m━━━━━━━━━━━━━━━━━━━━\u001b[0m\u001b[37m\u001b[0m \u001b[1m1s\u001b[0m 1s/step - AUC: 1.0000 - accuracy: 1.0000 - loss: 0.0856 - val_AUC: 0.0000e+00 - val_accuracy: 1.0000 - val_loss: 0.3380\n",
      "Epoch 98/100\n",
      "\u001b[1m1/1\u001b[0m \u001b[32m━━━━━━━━━━━━━━━━━━━━\u001b[0m\u001b[37m\u001b[0m \u001b[1m1s\u001b[0m 1s/step - AUC: 1.0000 - accuracy: 1.0000 - loss: 0.1058 - val_AUC: 0.0000e+00 - val_accuracy: 1.0000 - val_loss: 0.3342\n",
      "Epoch 99/100\n",
      "\u001b[1m1/1\u001b[0m \u001b[32m━━━━━━━━━━━━━━━━━━━━\u001b[0m\u001b[37m\u001b[0m \u001b[1m4s\u001b[0m 4s/step - AUC: 1.0000 - accuracy: 1.0000 - loss: 0.0919 - val_AUC: 0.0000e+00 - val_accuracy: 1.0000 - val_loss: 0.3305\n",
      "Epoch 100/100\n",
      "\u001b[1m1/1\u001b[0m \u001b[32m━━━━━━━━━━━━━━━━━━━━\u001b[0m\u001b[37m\u001b[0m \u001b[1m2s\u001b[0m 2s/step - AUC: 1.0000 - accuracy: 1.0000 - loss: 0.0773 - val_AUC: 0.0000e+00 - val_accuracy: 1.0000 - val_loss: 0.3268\n"
     ]
    }
   ],
   "source": [
    "es = keras.callbacks.EarlyStopping(\n",
    "    monitor=\"val_loss\", patience=10, restore_best_weights=True\n",
    ")\n",
    "\n",
    "history = model.fit(\n",
    "    X_train, y_train,\n",
    "    validation_data=(X_val, y_val),\n",
    "    epochs=100, batch_size=32,\n",
    "    callbacks=[es], verbose=1\n",
    ")"
   ]
  },
  {
   "cell_type": "code",
   "execution_count": 4,
   "id": "1927e2b9",
   "metadata": {},
   "outputs": [
    {
     "name": "stdout",
     "output_type": "stream",
     "text": [
      "Test Acc: 1.0 AUC: 1.0\n",
      "\u001b[1m1/1\u001b[0m \u001b[32m━━━━━━━━━━━━━━━━━━━━\u001b[0m\u001b[37m\u001b[0m \u001b[1m1s\u001b[0m 1s/step   \n",
      "[[1 0]\n",
      " [0 1]]\n",
      "              precision    recall  f1-score   support\n",
      "\n",
      "           0      1.000     1.000     1.000         1\n",
      "           1      1.000     1.000     1.000         1\n",
      "\n",
      "    accuracy                          1.000         2\n",
      "   macro avg      1.000     1.000     1.000         2\n",
      "weighted avg      1.000     1.000     1.000         2\n",
      "\n"
     ]
    }
   ],
   "source": [
    "from sklearn.metrics import classification_report, confusion_matrix\n",
    "\n",
    "loss, acc, auc = model.evaluate(X_test, y_test, verbose=0)\n",
    "print(\"Test Acc:\", acc, \"AUC:\", auc)\n",
    "\n",
    "y_proba = model.predict(X_test).ravel()\n",
    "y_pred = (y_proba >= 0.5).astype(int)\n",
    "\n",
    "print(confusion_matrix(y_test, y_pred))\n",
    "print(classification_report(y_test, y_pred, digits=3))\n"
   ]
  },
  {
   "cell_type": "code",
   "execution_count": 5,
   "id": "39289835",
   "metadata": {},
   "outputs": [
    {
     "data": {
      "image/png": "[encoded data removed]",
      "text/plain": [
       "<Figure size 640x480 with 1 Axes>"
      ]
     },
     "metadata": {},
     "output_type": "display_data"
    }
   ],
   "source": [
    "import matplotlib.pyplot as plt\n",
    "\n",
    "plt.plot(history.history[\"loss\"], label=\"Train Loss\")\n",
    "plt.plot(history.history[\"val_loss\"], label=\"Val Loss\")\n",
    "plt.xlabel(\"Epoch\"); plt.ylabel(\"Loss\"); plt.legend()\n",
    "plt.title(\"Learning Curve\")\n",
    "plt.tight_layout(); plt.savefig(\"learning_curve.png\", dpi=120)\n"
   ]
  }
 ],
 "metadata": {
  "kernelspec": {
   "display_name": ".venv (3.10.11)",
   "language": "python",
   "name": "python3"
  },
  "language_info": {
   "codemirror_mode": {
    "name": "ipython",
    "version": 3
   },
   "file_extension": ".py",
   "mimetype": "text/x-python",
   "name": "python",
   "nbconvert_exporter": "python",
   "pygments_lexer": "ipython3",
   "version": "3.10.11"
  }
 },
 "nbformat": 4,
 "nbformat_minor": 5
}
